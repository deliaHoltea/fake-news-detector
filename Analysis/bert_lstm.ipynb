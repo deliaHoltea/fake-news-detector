{
 "cells": [
  {
   "cell_type": "code",
   "execution_count": 1,
   "id": "cd132464",
   "metadata": {},
   "outputs": [
    {
     "name": "stderr",
     "output_type": "stream",
     "text": [
      "C:\\Users\\holte\\AppData\\Roaming\\Python\\Python310\\site-packages\\tqdm\\auto.py:21: TqdmWarning: IProgress not found. Please update jupyter and ipywidgets. See https://ipywidgets.readthedocs.io/en/stable/user_install.html\n",
      "  from .autonotebook import tqdm as notebook_tqdm\n"
     ]
    }
   ],
   "source": [
    "import pandas as pd\n",
    "import numpy as np\n",
    "import torch\n",
    "import torch.nn as nn\n",
    "from tqdm import tqdm\n",
    "import matplotlib.pyplot as plt\n",
    "import seaborn as sns\n",
    "import os\n",
    "from sklearn.model_selection import train_test_split\n",
    "from sklearn.metrics import classification_report, confusion_matrix\n",
    "from transformers import BertTokenizer, BertModel"
   ]
  },
  {
   "cell_type": "code",
   "execution_count": 2,
   "id": "2799bfa7",
   "metadata": {},
   "outputs": [],
   "source": [
    "df = pd.read_csv('features.csv')"
   ]
  },
  {
   "cell_type": "code",
   "execution_count": 3,
   "id": "7d5d3387",
   "metadata": {},
   "outputs": [],
   "source": [
    "df['text_lemmatized'] = df['text_lemmatized'].apply(lambda x: eval(x))\n",
    "df['title_lemmatized'] = df['title_lemmatized'].apply(lambda x: eval(x))\n",
    "df['full_text'] = df['title_lemmatized'].apply(lambda tokens: \" \".join(tokens)) + \" \" + df['text_lemmatized'].apply(lambda tokens: \" \".join(tokens))"
   ]
  },
  {
   "cell_type": "code",
   "execution_count": 4,
   "id": "d514eb9d",
   "metadata": {},
   "outputs": [],
   "source": [
    "df_trainval, df_test = train_test_split(df, test_size=0.2, stratify=df['label'], random_state=42)\n",
    "df_train, df_val = train_test_split(df_trainval, test_size=0.2, stratify=df_trainval['label'], random_state=42)\n",
    "\n",
    "df_train = df_train.reset_index(drop=True)\n",
    "df_val = df_val.reset_index(drop=True)\n",
    "df_test = df_test.reset_index(drop=True)\n",
    "\n",
    "train_labels = df_train['label'].tolist()\n",
    "val_labels = df_val['label'].tolist()\n",
    "test_labels = df_test['label'].tolist()\n",
    "\n",
    "df_train.to_csv('train.csv')\n",
    "df_val.to_csv('val.csv')\n",
    "df_test.to_csv('test.csv')"
   ]
  },
  {
   "cell_type": "code",
   "execution_count": 5,
   "id": "f8e18538",
   "metadata": {},
   "outputs": [
    {
     "name": "stdout",
     "output_type": "stream",
     "text": [
      "Device: cuda\n"
     ]
    }
   ],
   "source": [
    "device = torch.device('cuda' if torch.cuda.is_available() else 'cpu')\n",
    "print('Device:', device)\n",
    "\n",
    "tokenizer = BertTokenizer.from_pretrained('bert-base-uncased')\n",
    "model = BertModel.from_pretrained('bert-base-uncased')\n",
    "model = model.to(device)"
   ]
  },
  {
   "cell_type": "code",
   "execution_count": 6,
   "id": "1a4fab32",
   "metadata": {},
   "outputs": [],
   "source": [
    "def save_bert_sequence_embeddings(texts, tokenizer, model, output_folder, max_length=256, batch_size=16):\n",
    "    print(\"Total texts received:\", len(texts))\n",
    "    os.makedirs(output_folder, exist_ok=True)\n",
    "    model.eval()\n",
    "\n",
    "    idx = 0  \n",
    "    with torch.no_grad():\n",
    "        for i in tqdm(range(0, len(texts), batch_size), total=(len(texts) // batch_size) + 1):\n",
    "            batch_texts = texts[i:i+batch_size]\n",
    "\n",
    "            inputs = tokenizer(\n",
    "                batch_texts.tolist(),\n",
    "                return_tensors=\"pt\",\n",
    "                padding=\"max_length\",\n",
    "                truncation=True,\n",
    "                max_length=max_length\n",
    "            )\n",
    "            inputs = {key: val.to(device) for key, val in inputs.items()}\n",
    "\n",
    "            outputs = model(**inputs)\n",
    "            sequence_output = outputs.last_hidden_state.cpu().half()\n",
    "            attention_mask = inputs['attention_mask'].cpu()\n",
    "\n",
    "            for j in range(sequence_output.size(0)):\n",
    "                np.save(os.path.join(output_folder, f\"embedding_{idx}.npy\"), sequence_output[j].numpy())\n",
    "                np.save(os.path.join(output_folder, f\"mask_{idx}.npy\"), attention_mask[j].numpy())\n",
    "                idx += 1\n",
    "\n",
    "            del inputs, outputs, sequence_output, attention_mask\n",
    "            torch.cuda.empty_cache()"
   ]
  },
  {
   "cell_type": "code",
   "execution_count": 7,
   "id": "333e5164",
   "metadata": {},
   "outputs": [
    {
     "name": "stdout",
     "output_type": "stream",
     "text": [
      "Total texts received: 39532\n"
     ]
    },
    {
     "name": "stderr",
     "output_type": "stream",
     "text": [
      "100%|██████████| 2471/2471 [18:48<00:00,  2.19it/s]\n"
     ]
    }
   ],
   "source": [
    "save_bert_sequence_embeddings(texts=df_train['full_text'],tokenizer=tokenizer,model=model,output_folder=\"train_bert_embeddings\",\n",
    "                              max_length=256,batch_size=16)"
   ]
  },
  {
   "cell_type": "code",
   "execution_count": 8,
   "id": "3b660acb",
   "metadata": {},
   "outputs": [
    {
     "name": "stdout",
     "output_type": "stream",
     "text": [
      "Total texts received: 9884\n"
     ]
    },
    {
     "name": "stderr",
     "output_type": "stream",
     "text": [
      "  0%|          | 0/618 [00:00<?, ?it/s]"
     ]
    },
    {
     "name": "stderr",
     "output_type": "stream",
     "text": [
      "100%|██████████| 618/618 [04:36<00:00,  2.24it/s]\n"
     ]
    }
   ],
   "source": [
    "save_bert_sequence_embeddings(texts=df_val['full_text'],tokenizer=tokenizer,model=model,output_folder=\"val_bert_embeddings\",\n",
    "                              max_length=256,batch_size=16)"
   ]
  },
  {
   "cell_type": "code",
   "execution_count": 9,
   "id": "d92deb00",
   "metadata": {},
   "outputs": [
    {
     "name": "stdout",
     "output_type": "stream",
     "text": [
      "Total texts received: 12354\n"
     ]
    },
    {
     "name": "stderr",
     "output_type": "stream",
     "text": [
      "100%|██████████| 773/773 [05:49<00:00,  2.21it/s]\n"
     ]
    }
   ],
   "source": [
    "save_bert_sequence_embeddings(texts=df_test['full_text'],tokenizer=tokenizer,model=model,output_folder=\"test_bert_embeddings\",\n",
    "                             max_length=256,batch_size=16)\n"
   ]
  },
  {
   "cell_type": "code",
   "execution_count": 10,
   "id": "183eb0bc",
   "metadata": {},
   "outputs": [],
   "source": [
    "def load_embedding_and_mask(idx, folder_path):\n",
    "    embedding = np.load(f\"{folder_path}/embedding_{idx}.npy\")\n",
    "    mask = np.load(f\"{folder_path}/mask_{idx}.npy\")\n",
    "\n",
    "    embedding = torch.tensor(embedding, dtype=torch.float32)\n",
    "    mask = torch.tensor(mask, dtype=torch.float32)\n",
    "    \n",
    "    return embedding, mask"
   ]
  },
  {
   "cell_type": "code",
   "execution_count": 11,
   "id": "dab612be",
   "metadata": {},
   "outputs": [],
   "source": [
    "def create_batch(indices, folder_path, labels=None):\n",
    "    embeddings = []\n",
    "    masks = []\n",
    "    batch_labels = []\n",
    "\n",
    "    for idx in indices:\n",
    "        embedding, mask = load_embedding_and_mask(idx, folder_path)\n",
    "        embeddings.append(embedding)\n",
    "        masks.append(mask)\n",
    "        if labels is not None:\n",
    "            batch_labels.append(labels[idx])\n",
    "\n",
    "    embeddings = torch.stack(embeddings).to(device)\n",
    "    masks = torch.stack(masks).to(device)\n",
    "\n",
    "    if labels is not None:\n",
    "        batch_labels = torch.tensor(batch_labels).to(device)\n",
    "        return embeddings, masks, batch_labels\n",
    "    else:\n",
    "        return embeddings, masks"
   ]
  },
  {
   "cell_type": "code",
   "execution_count": 12,
   "id": "45590b57",
   "metadata": {},
   "outputs": [],
   "source": [
    "embedding_dim = 768\n",
    "hidden_dim = 256\n",
    "num_classes = 2\n",
    "\n",
    "lstm = nn.LSTM(input_size=embedding_dim, hidden_size=hidden_dim, batch_first=True, bidirectional=True)\n",
    "linear = nn.Linear(hidden_dim * 2, num_classes)\n",
    "lstm = lstm.to(device)\n",
    "linear = linear.to(device)"
   ]
  },
  {
   "cell_type": "code",
   "execution_count": 13,
   "id": "09a2eddf",
   "metadata": {},
   "outputs": [],
   "source": [
    "def evaluate(lstm, linear, folder_path, labels=None, batch_size=16):\n",
    "    lstm.eval()\n",
    "    linear.eval()\n",
    "    \n",
    "    all_preds = []\n",
    "    all_labels = []\n",
    "\n",
    "    num_samples = len(labels) if labels is not None else len(os.listdir(folder_path)) // 2\n",
    "\n",
    "    with torch.no_grad():\n",
    "        for i in range(0, num_samples, batch_size):\n",
    "            batch_indices = list(range(i, min(i + batch_size, num_samples)))\n",
    "\n",
    "            if labels is not None:\n",
    "                embeddings, masks, batch_labels = create_batch(batch_indices, folder_path, labels)\n",
    "            else:\n",
    "                embeddings, masks = create_batch(batch_indices, folder_path)\n",
    "\n",
    "            outputs, (h_n, c_n) = lstm(embeddings)\n",
    "            lengths = masks.sum(dim=1) - 1\n",
    "            last_outputs = outputs[torch.arange(outputs.size(0)), lengths.long()]\n",
    "\n",
    "            logits = linear(last_outputs)\n",
    "            preds = torch.argmax(logits, dim=1)\n",
    "\n",
    "            all_preds.append(preds.cpu())\n",
    "\n",
    "            if labels is not None:\n",
    "                all_labels.append(batch_labels.cpu())\n",
    "\n",
    "    all_preds = torch.cat(all_preds)\n",
    "\n",
    "    if labels is not None:\n",
    "        all_labels = torch.cat(all_labels)\n",
    "        acc = (all_preds == all_labels).float().mean().item()\n",
    "        print(f\"Accuracy: {acc:.4f}\")\n",
    "        return acc\n",
    "    else:\n",
    "        return all_preds"
   ]
  },
  {
   "cell_type": "code",
   "execution_count": 14,
   "id": "6a44f98d",
   "metadata": {},
   "outputs": [
    {
     "name": "stdout",
     "output_type": "stream",
     "text": [
      "Accuracy: 0.8861\n",
      "Accuracy: 0.8837\n",
      "Epoch 1/5 | Loss: 0.3521 | Train Acc: 0.8410 | Val Acc: 0.8861 | Test Acc: 0.8837\n",
      "Accuracy: 0.8939\n",
      "Accuracy: 0.8912\n",
      "Epoch 2/5 | Loss: 0.2620 | Train Acc: 0.8883 | Val Acc: 0.8939 | Test Acc: 0.8912\n",
      "Accuracy: 0.9144\n",
      "Accuracy: 0.9161\n",
      "Epoch 3/5 | Loss: 0.2276 | Train Acc: 0.9045 | Val Acc: 0.9144 | Test Acc: 0.9161\n",
      "Accuracy: 0.9385\n",
      "Accuracy: 0.9393\n",
      "Epoch 4/5 | Loss: 0.1845 | Train Acc: 0.9263 | Val Acc: 0.9385 | Test Acc: 0.9393\n",
      "Accuracy: 0.9418\n",
      "Accuracy: 0.9422\n",
      "Epoch 5/5 | Loss: 0.1215 | Train Acc: 0.9528 | Val Acc: 0.9418 | Test Acc: 0.9422\n"
     ]
    }
   ],
   "source": [
    "history = {'train_loss': [],'train_acc': [],'val_acc': [],'test_acc': []}\n",
    "criterion = nn.CrossEntropyLoss()\n",
    "optimizer = torch.optim.Adam(list(lstm.parameters()) + list(linear.parameters()), lr=1e-4)\n",
    "num_epochs = 5\n",
    "batch_size = 16\n",
    "train_folder = \"train_bert_embeddings\"\n",
    "train_labels = df_train['label'].tolist()\n",
    "\n",
    "for epoch in range(num_epochs):\n",
    "    lstm.train()\n",
    "    linear.train()\n",
    "    total_loss = 0\n",
    "    all_preds = []\n",
    "    all_labels = []\n",
    "\n",
    "    indices = list(range(len(train_labels)))\n",
    "    np.random.shuffle(indices)\n",
    "\n",
    "    for i in range(0, len(indices), batch_size):\n",
    "        batch_indices = indices[i:i+batch_size]\n",
    "        embeddings, masks, labels = create_batch(batch_indices, train_folder, train_labels)\n",
    "\n",
    "        optimizer.zero_grad()\n",
    "        outputs, (h_n, c_n) = lstm(embeddings)\n",
    "\n",
    "        lengths = masks.sum(dim=1) - 1\n",
    "        last_outputs = outputs[torch.arange(outputs.size(0)), lengths.long()]\n",
    "        logits = linear(last_outputs)\n",
    "        loss = criterion(logits, labels)\n",
    "\n",
    "        loss.backward()\n",
    "        optimizer.step()\n",
    "        total_loss += loss.item()\n",
    "\n",
    "        preds = torch.argmax(logits, dim=1)\n",
    "        all_preds.append(preds.cpu())\n",
    "        all_labels.append(labels.cpu())\n",
    "\n",
    "    train_acc = (torch.cat(all_preds) == torch.cat(all_labels)).float().mean().item()\n",
    "    val_acc = evaluate(lstm, linear, \"val_bert_embeddings\", val_labels, batch_size=batch_size)\n",
    "    test_acc = evaluate(lstm, linear, \"test_bert_embeddings\", test_labels, batch_size=batch_size)\n",
    "\n",
    "    history['train_loss'].append(total_loss / (len(indices) / batch_size))\n",
    "    history['train_acc'].append(train_acc)\n",
    "    history['val_acc'].append(val_acc)\n",
    "    history['test_acc'].append(test_acc)\n",
    "\n",
    "    print(f\"Epoch {epoch+1}/{num_epochs} | Loss: {history['train_loss'][-1]:.4f} | \"\n",
    "          f\"Train Acc: {train_acc:.4f} | Val Acc: {val_acc:.4f} | Test Acc: {test_acc:.4f}\")"
   ]
  },
  {
   "cell_type": "code",
   "execution_count": 15,
   "id": "dbf6226a",
   "metadata": {},
   "outputs": [
    {
     "name": "stdout",
     "output_type": "stream",
     "text": [
      "              precision    recall  f1-score   support\n",
      "\n",
      "           0       0.99      0.91      0.95      6883\n",
      "           1       0.89      0.99      0.94      5471\n",
      "\n",
      "    accuracy                           0.94     12354\n",
      "   macro avg       0.94      0.95      0.94     12354\n",
      "weighted avg       0.95      0.94      0.94     12354\n",
      "\n"
     ]
    }
   ],
   "source": [
    "y_pred = evaluate(lstm, linear, \"test_bert_embeddings\", batch_size=16)\n",
    "y_test = df_test['label'].tolist()\n",
    "print(classification_report(y_test, y_pred))"
   ]
  },
  {
   "cell_type": "code",
   "execution_count": 16,
   "id": "eafdf0c5",
   "metadata": {},
   "outputs": [
    {
     "data": {
      "text/plain": [
       "Text(0.5, 1.0, 'Confusion Matrix')"
      ]
     },
     "execution_count": 16,
     "metadata": {},
     "output_type": "execute_result"
    },
    {
     "data": {
      "image/png": "[encoded data removed]",
      "text/plain": [
       "<Figure size 600x500 with 2 Axes>"
      ]
     },
     "metadata": {},
     "output_type": "display_data"
    }
   ],
   "source": [
    "cm = confusion_matrix(y_test, y_pred)\n",
    "plt.figure(figsize=(6,5))\n",
    "sns.heatmap(cm, annot=True, fmt='d', cmap='Blues')\n",
    "plt.xlabel('Predicted')\n",
    "plt.ylabel('Actual')\n",
    "plt.title('Confusion Matrix')"
   ]
  },
  {
   "cell_type": "code",
   "execution_count": 17,
   "id": "6b16e49e",
   "metadata": {},
   "outputs": [
    {
     "data": {
      "image/png": "[encoded data removed]",
      "text/plain": [
       "<Figure size 800x500 with 1 Axes>"
      ]
     },
     "metadata": {},
     "output_type": "display_data"
    }
   ],
   "source": [
    "epochs = range(1, num_epochs + 1)\n",
    "plt.figure(figsize=(8, 5))\n",
    "plt.plot(epochs, history['train_acc'], label='Train Accuracy', marker='o')\n",
    "plt.plot(epochs, history['val_acc'], label='Validation Accuracy', marker='s', color='orange')\n",
    "plt.plot(epochs, history['test_acc'], label='Test Accuracy', marker='^', color='green')\n",
    "plt.title('Accuracy per Epoch')\n",
    "plt.xlabel('Epoch')\n",
    "plt.ylabel('Accuracy')\n",
    "plt.grid(True)\n",
    "plt.legend()\n",
    "plt.tight_layout()"
   ]
  },
  {
   "cell_type": "code",
   "execution_count": 18,
   "id": "6b877977",
   "metadata": {},
   "outputs": [],
   "source": [
    "history_df = pd.DataFrame(history)\n",
    "history_df.to_csv(\"bert_lstm_history.csv\", index=False)"
   ]
  },
  {
   "cell_type": "code",
   "execution_count": 19,
   "id": "46577534",
   "metadata": {},
   "outputs": [],
   "source": [
    "torch.save(lstm.state_dict(), \"bert_lstm_model.pt\")\n",
    "torch.save(linear.state_dict(), \"bert_lstm_linear.pt\")"
   ]
  }
 ],
 "metadata": {
  "kernelspec": {
   "display_name": "Python 3",
   "language": "python",
   "name": "python3"
  },
  "language_info": {
   "codemirror_mode": {
    "name": "ipython",
    "version": 3
   },
   "file_extension": ".py",
   "mimetype": "text/x-python",
   "name": "python",
   "nbconvert_exporter": "python",
   "pygments_lexer": "ipython3",
   "version": "3.10.0"
  }
 },
 "nbformat": 4,
 "nbformat_minor": 5
}
