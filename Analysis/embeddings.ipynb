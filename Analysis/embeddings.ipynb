{
 "cells": [
  {
   "cell_type": "code",
   "execution_count": 1,
   "id": "3f560984",
   "metadata": {},
   "outputs": [
    {
     "name": "stderr",
     "output_type": "stream",
     "text": [
      "C:\\Users\\holte\\AppData\\Roaming\\Python\\Python310\\site-packages\\tqdm\\auto.py:21: TqdmWarning: IProgress not found. Please update jupyter and ipywidgets. See https://ipywidgets.readthedocs.io/en/stable/user_install.html\n",
      "  from .autonotebook import tqdm as notebook_tqdm\n"
     ]
    }
   ],
   "source": [
    "import pandas as pd\n",
    "import numpy as np\n",
    "import seaborn as sns\n",
    "import matplotlib.pyplot as plt\n",
    "import torch\n",
    "from tqdm import tqdm\n",
    "\n",
    "from transformers import BertTokenizer, BertModel\n",
    "from tensorflow.keras.preprocessing.text import Tokenizer\n",
    "from gensim.models import Word2Vec\n",
    "from sklearn.feature_extraction.text import TfidfVectorizer\n",
    "from sklearn.model_selection import train_test_split"
   ]
  },
  {
   "cell_type": "code",
   "execution_count": 2,
   "id": "95b05a12",
   "metadata": {},
   "outputs": [],
   "source": [
    "df=pd.read_csv('features.csv')"
   ]
  },
  {
   "cell_type": "code",
   "execution_count": 3,
   "id": "afecdea4",
   "metadata": {},
   "outputs": [],
   "source": [
    "df['text_lemmatized'] = df['text_lemmatized'].apply(lambda x: eval(x))\n",
    "df['title_lemmatized'] = df['title_lemmatized'].apply(lambda x: eval(x))\n",
    "df['full_text'] = df['title_lemmatized'].apply(lambda tokens: \" \".join(tokens)) + \" \" + df['text_lemmatized'].apply(lambda tokens: \" \".join(tokens))"
   ]
  },
  {
   "cell_type": "code",
   "execution_count": 4,
   "id": "bf94ff74",
   "metadata": {},
   "outputs": [],
   "source": [
    "X = df.drop(columns=['label'])\n",
    "y = df['label']\n",
    "\n",
    "X_temp, X_test, y_temp, y_test = train_test_split(X, y, test_size=0.2, stratify=y, random_state=42)\n",
    "\n",
    "# Apoi împărțim din ce a rămas în train (80%) -> train (64%) și val (16%)\n",
    "X_train, X_val, y_train, y_val = train_test_split(X_temp, y_temp, test_size=0.2, stratify=y_temp, random_state=42)\n",
    "\n",
    "# Construim DataFrame-urile\n",
    "df_train = df.loc[X_train.index].reset_index(drop=True)\n",
    "df_val = df.loc[X_val.index].reset_index(drop=True)\n",
    "df_test = df.loc[X_test.index].reset_index(drop=True)"
   ]
  },
  {
   "cell_type": "code",
   "execution_count": 5,
   "id": "62b40e33",
   "metadata": {},
   "outputs": [
    {
     "data": {
      "text/plain": [
       "<Axes: xlabel='label', ylabel='Count'>"
      ]
     },
     "execution_count": 5,
     "metadata": {},
     "output_type": "execute_result"
    },
    {
     "data": {
      "image/png": "[encoded data removed]",
      "text/plain": [
       "<Figure size 640x480 with 1 Axes>"
      ]
     },
     "metadata": {},
     "output_type": "display_data"
    }
   ],
   "source": [
    "# Grafic distribuție\n",
    "sns.histplot(y_train, bins=2)\n",
    "sns.histplot(y_val, bins=2)\n",
    "sns.histplot(y_test, bins=2)"
   ]
  },
  {
   "cell_type": "markdown",
   "id": "631d0c3a",
   "metadata": {},
   "source": [
    "1. TF-IDF"
   ]
  },
  {
   "cell_type": "code",
   "execution_count": 6,
   "id": "1a3abc56",
   "metadata": {},
   "outputs": [],
   "source": [
    "vectorizer = TfidfVectorizer(\n",
    "    ngram_range=(1, 1),\n",
    "    max_features=5000,\n",
    "    stop_words='english',\n",
    "    sublinear_tf=True\n",
    ")\n",
    "\n",
    "X_train_tf_idf = vectorizer.fit_transform(df_train['full_text'])\n",
    "X_val_tf_idf = vectorizer.transform(df_val['full_text'])\n",
    "X_test_tf_idf = vectorizer.transform(df_test['full_text'])\n",
    "\n",
    "df_train['tfidf_embedding'] = list(X_train_tf_idf.toarray())\n",
    "df_val['tfidf_embedding'] = list(X_val_tf_idf.toarray())\n",
    "df_test['tfidf_embedding'] = list(X_test_tf_idf.toarray())"
   ]
  },
  {
   "cell_type": "code",
   "execution_count": 7,
   "id": "b9b280fe",
   "metadata": {},
   "outputs": [],
   "source": [
    "vectorizer_ngrams = TfidfVectorizer(\n",
    "    ngram_range=(1, 3),    \n",
    "    max_features=10000,     \n",
    "    stop_words='english',   \n",
    "    sublinear_tf=True       \n",
    ")\n",
    "\n",
    "X_train_ngrams = vectorizer_ngrams.fit_transform(df_train['full_text'])\n",
    "X_val_ngrams = vectorizer_ngrams.transform(df_val['full_text'])\n",
    "X_test_ngrams = vectorizer_ngrams.transform(df_test['full_text'])\n",
    "\n",
    "\n",
    "df_train['tfidf_ngrams'] = list(X_train_ngrams.toarray())\n",
    "df_val['tfidf_ngrams'] = list(X_val_ngrams.toarray())\n",
    "df_test['tfidf_ngrams'] = list(X_test_ngrams.toarray())"
   ]
  },
  {
   "cell_type": "markdown",
   "id": "2918f844",
   "metadata": {},
   "source": [
    "2. GloVe"
   ]
  },
  {
   "cell_type": "code",
   "execution_count": 8,
   "id": "b5c110ab",
   "metadata": {},
   "outputs": [
    {
     "name": "stdout",
     "output_type": "stream",
     "text": [
      "Numarul de cuvinte: 170582\n",
      "      cuvant  index\n",
      "0        say      1\n",
      "1      trump      2\n",
      "2      state      3\n",
      "3      would      4\n",
      "4  president      5\n"
     ]
    }
   ],
   "source": [
    "df_train['full_tokens'] = df_train['title_lemmatized'] + df_train['text_lemmatized']\n",
    "df_val['full_tokens'] = df_val['title_lemmatized'] + df_val['text_lemmatized']\n",
    "df_test['full_tokens'] = df_test['title_lemmatized'] + df_test['text_lemmatized']\n",
    "\n",
    "\n",
    "tokenizer = Tokenizer()\n",
    "tokenizer.fit_on_texts(df_train['full_tokens'])\n",
    "\n",
    "print('Numarul de cuvinte:', len(tokenizer.word_index))\n",
    "df_dictionar = pd.DataFrame(tokenizer.word_index.items(), columns=['cuvant', 'index'])\n",
    "print(df_dictionar.head())"
   ]
  },
  {
   "cell_type": "code",
   "execution_count": 9,
   "id": "98054fe2",
   "metadata": {},
   "outputs": [],
   "source": [
    "def load_glove_dict(file_path, dim=100):\n",
    "    glove_dict = {}\n",
    "    with open(file_path, encoding='utf-8') as f:\n",
    "        for line in f:\n",
    "            parts = line.split()\n",
    "            word = parts[0]\n",
    "            vector = np.asarray(parts[1:], dtype=np.float32)\n",
    "            glove_dict[word] = vector\n",
    "    return glove_dict\n",
    "\n",
    "glove_dict = load_glove_dict('glove.6B.100d.txt', dim=100)"
   ]
  },
  {
   "cell_type": "code",
   "execution_count": 10,
   "id": "f36abb3a",
   "metadata": {},
   "outputs": [],
   "source": [
    "def average_embedding(tokens, embedding_dict, dim=100):\n",
    "    vectors = [embedding_dict[word] for word in tokens if word in embedding_dict]\n",
    "    return np.mean(vectors, axis=0) if vectors else np.zeros(dim)"
   ]
  },
  {
   "cell_type": "code",
   "execution_count": 11,
   "id": "ef8f23c7",
   "metadata": {},
   "outputs": [],
   "source": [
    "df_train['glove_embedding'] = [average_embedding(t, glove_dict, dim=100) for t in df_train['full_tokens']]\n",
    "df_val['glove_embedding'] = [average_embedding(t, glove_dict, dim=100) for t in df_val['full_tokens']]\n",
    "df_test['glove_embedding'] = [average_embedding(t, glove_dict, dim=100) for t in df_test['full_tokens']]"
   ]
  },
  {
   "cell_type": "markdown",
   "id": "c53c9020",
   "metadata": {},
   "source": [
    "3. Word2vec - CBOW"
   ]
  },
  {
   "cell_type": "code",
   "execution_count": 12,
   "id": "982a6f02",
   "metadata": {},
   "outputs": [],
   "source": [
    "w2v_model_cbow = Word2Vec(\n",
    "    sentences=df_train['full_tokens'],     # lista de liste de tokeni\n",
    "    vector_size=100,                       # dimensiunea vectorilor\n",
    "    window=10,                             # dimensiunea ferestrei context\n",
    "    min_count=2,                          # ignoră cuvintele cu frecvență sub 2\n",
    "    workers=4,                            # numărul de thread-uri\n",
    "    sg=0                                   # 0 = CBOW\n",
    ")"
   ]
  },
  {
   "cell_type": "code",
   "execution_count": 13,
   "id": "3e8998fc",
   "metadata": {},
   "outputs": [
    {
     "data": {
      "text/plain": [
       "[('electoral', 0.6232032179832458),\n",
       " ('primary', 0.562582790851593),\n",
       " ('candidate', 0.552706778049469),\n",
       " ('race', 0.5206029415130615),\n",
       " ('outcome', 0.49976029992103577),\n",
       " ('vote', 0.490852028131485),\n",
       " ('voter', 0.47768405079841614),\n",
       " ('voting', 0.47065478563308716),\n",
       " ('demcorats', 0.46857553720474243),\n",
       " ('electorate', 0.4681573808193207)]"
      ]
     },
     "execution_count": 13,
     "metadata": {},
     "output_type": "execute_result"
    }
   ],
   "source": [
    "w2v_model_cbow.wv.most_similar('election', topn=10)"
   ]
  },
  {
   "cell_type": "code",
   "execution_count": 14,
   "id": "60dd5610",
   "metadata": {},
   "outputs": [],
   "source": [
    "def average_embedding_w2v(tokens, model, dim=500):\n",
    "    vectors = [model.wv[word] for word in tokens if word in model.wv]\n",
    "    return np.mean(vectors, axis=0) if vectors else np.zeros(dim)"
   ]
  },
  {
   "cell_type": "code",
   "execution_count": 15,
   "id": "4681f2b6",
   "metadata": {},
   "outputs": [],
   "source": [
    "df_train['w2v_embedding'] = [average_embedding_w2v(t, w2v_model_cbow) for t in df_train['full_tokens']]\n",
    "df_val['w2v_embedding'] = [average_embedding_w2v(t, w2v_model_cbow) for t in df_val['full_tokens']]\n",
    "df_test['w2v_embedding'] = [average_embedding_w2v(t, w2v_model_cbow) for t in df_test['full_tokens']]"
   ]
  },
  {
   "cell_type": "markdown",
   "id": "0125ae70",
   "metadata": {},
   "source": [
    "4. Bert Base uncased"
   ]
  },
  {
   "cell_type": "code",
   "execution_count": 16,
   "id": "9727f2f2",
   "metadata": {},
   "outputs": [
    {
     "name": "stdout",
     "output_type": "stream",
     "text": [
      "Device: cuda\n"
     ]
    }
   ],
   "source": [
    "device = torch.device('cuda' if torch.cuda.is_available() else 'cpu')\n",
    "print('Device:', device)"
   ]
  },
  {
   "cell_type": "code",
   "execution_count": 17,
   "id": "abfd849b",
   "metadata": {},
   "outputs": [],
   "source": [
    "tokenizer = BertTokenizer.from_pretrained('bert-base-uncased')\n",
    "model = BertModel.from_pretrained('bert-base-uncased')\n",
    "model = model.to(device)"
   ]
  },
  {
   "cell_type": "code",
   "execution_count": 18,
   "id": "5c5ba797",
   "metadata": {},
   "outputs": [
    {
     "name": "stderr",
     "output_type": "stream",
     "text": [
      "100%|██████████| 39532/39532 [26:09<00:00, 25.19it/s]\n",
      "100%|██████████| 9884/9884 [06:35<00:00, 25.02it/s]\n",
      "100%|██████████| 12354/12354 [08:11<00:00, 25.12it/s]\n"
     ]
    }
   ],
   "source": [
    "def get_bert_embeddings(texts, tokenizer, model, max_length=512):\n",
    "    embeddings = []\n",
    "    \n",
    "    with torch.no_grad():\n",
    "        for text in tqdm(texts):\n",
    "            inputs = tokenizer(\n",
    "                text,\n",
    "                return_tensors=\"pt\",\n",
    "                truncation=True,\n",
    "                padding=\"max_length\",\n",
    "                max_length=max_length\n",
    "            )\n",
    "            inputs = {key: val.to(device) for key, val in inputs.items()}\n",
    "            \n",
    "            outputs = model(**inputs)\n",
    "            cls_embedding = outputs.last_hidden_state[:, 0, :]\n",
    "            embeddings.append(cls_embedding.squeeze(0).cpu().numpy())\n",
    "    \n",
    "    return embeddings\n",
    "\n",
    "df_train['bert_embedding'] = get_bert_embeddings(df_train['full_text'], tokenizer, model)\n",
    "df_val['bert_embedding'] = get_bert_embeddings(df_val['full_text'], tokenizer, model)\n",
    "df_test['bert_embedding'] = get_bert_embeddings(df_test['full_text'], tokenizer, model)\n"
   ]
  },
  {
   "cell_type": "code",
   "execution_count": 19,
   "id": "6f60b216",
   "metadata": {},
   "outputs": [
    {
     "data": {
      "text/plain": [
       "Index(['title', 'text', 'label', 'clean_text', 'clean_title',\n",
       "       'clean_text_without_stopwords', 'clean_title_without_stopwords',\n",
       "       'text_lemmatized', 'title_lemmatized', 'gunning_fog', 'smog_index',\n",
       "       'subjectivity', 'title_text_similarity', 'words_per_sentence',\n",
       "       'adv_ratio_title', 'noun_ratio_title', 'words_per_title',\n",
       "       'syllables_per_word', 'uppercase_per_title',\n",
       "       'uppercase_ratio_title_text', 'adj_ratio_text', 'adv_ratio_text',\n",
       "       'verb_ratio_text', 'noun_ratio_text', 'short_sentences_ratio',\n",
       "       'long_sentences_ratio', 'full_text', 'tfidf_embedding', 'tfidf_ngrams',\n",
       "       'full_tokens', 'glove_embedding', 'w2v_embedding', 'bert_embedding'],\n",
       "      dtype='object')"
      ]
     },
     "execution_count": 19,
     "metadata": {},
     "output_type": "execute_result"
    }
   ],
   "source": [
    "df_train.columns"
   ]
  },
  {
   "cell_type": "code",
   "execution_count": 20,
   "id": "be5f35b3",
   "metadata": {},
   "outputs": [],
   "source": [
    "cols_to_drop = ['clean_text', 'clean_title',\n",
    "       'clean_text_without_stopwords', 'clean_title_without_stopwords',\n",
    "       'text_lemmatized', 'title_lemmatized', 'full_text', 'full_tokens',]\n",
    "\n",
    "df_train = df_train.drop(columns=cols_to_drop)\n",
    "df_test = df_test.drop(columns=cols_to_drop)\n",
    "df_val = df_val.drop(columns=cols_to_drop)\n"
   ]
  },
  {
   "cell_type": "code",
   "execution_count": 21,
   "id": "5e282a6d",
   "metadata": {},
   "outputs": [],
   "source": [
    "df_train.to_csv('train_embeddings.csv', index=False)\n",
    "df_test.to_csv('test_embeddings.csv', index=False)\n",
    "df_val.to_csv('val_embeddings.csv', index=False)"
   ]
  }
 ],
 "metadata": {
  "kernelspec": {
   "display_name": "Python 3",
   "language": "python",
   "name": "python3"
  },
  "language_info": {
   "codemirror_mode": {
    "name": "ipython",
    "version": 3
   },
   "file_extension": ".py",
   "mimetype": "text/x-python",
   "name": "python",
   "nbconvert_exporter": "python",
   "pygments_lexer": "ipython3",
   "version": "3.10.0"
  }
 },
 "nbformat": 4,
 "nbformat_minor": 5
}
